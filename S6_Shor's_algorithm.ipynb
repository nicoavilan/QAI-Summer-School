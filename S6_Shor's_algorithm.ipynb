{
  "nbformat": 4,
  "nbformat_minor": 0,
  "metadata": {
    "colab": {
      "provenance": [],
      "authorship_tag": "ABX9TyMcn57gGNg81WwUxCFEzF18",
      "include_colab_link": true
    },
    "kernelspec": {
      "name": "python3",
      "display_name": "Python 3"
    },
    "language_info": {
      "name": "python"
    }
  },
  "cells": [
    {
      "cell_type": "markdown",
      "metadata": {
        "id": "view-in-github",
        "colab_type": "text"
      },
      "source": [
        "<a href=\"https://colab.research.google.com/github/nicoavilan/QAI-Summer-School/blob/main/S6_Shor's_algorithm.ipynb\" target=\"_parent\"><img src=\"https://colab.research.google.com/assets/colab-badge.svg\" alt=\"Open In Colab\"/></a>"
      ]
    },
    {
      "cell_type": "markdown",
      "source": [
        "**Q-AI: Summer School on Quantum Artificial Intelligence**\n",
        "\n",
        "Universidad del Rosario - School of Science and Engineering\n",
        "\n",
        "Université du Québec à Trois-Rivières (UQTR), Canada\n",
        "\n",
        "**Fundamentals of Quantum Computing** (session 6)\n",
        "\n"
      ],
      "metadata": {
        "id": "TS_CeuT5IOtN"
      }
    },
    {
      "cell_type": "markdown",
      "source": [
        "Professor: [Nicolás Avilán Vargas](http://www.linkedin.com/in/nicoavilanv)\n",
        "\n",
        "nicolasg.avilan@urosario.edu.co"
      ],
      "metadata": {
        "id": "BB2oOdBHJnlp"
      }
    },
    {
      "cell_type": "markdown",
      "source": [
        "# **Fundamentals of Quantum Computing (session 6)**\n",
        "\n",
        "\n"
      ],
      "metadata": {
        "id": "0AtBIpvHH3Eq"
      }
    },
    {
      "cell_type": "markdown",
      "source": [
        "This guide on Shor's Algorithm for undergraduates explains quantum factoring with linear algebra and Dirac notation, using Qiskit 2.1.1 in Google Colab for $ N=15 $. It includes visualizations and exercises on QFT and period finding, emphasizing multi-qubit gates, tensor products, and qubit ordering."
      ],
      "metadata": {
        "id": "r1KqIR3JMRef"
      }
    },
    {
      "cell_type": "markdown",
      "source": [
        "## **Shor's Algorithm**"
      ],
      "metadata": {
        "id": "6y9-_Ue5gHqb"
      }
    },
    {
      "cell_type": "markdown",
      "source": [
        "Shor's Algorithm, developed by Peter Shor in 1994, is a quantum algorithm that efficiently factors large integers, offering an exponential speedup over classical methods. It finds the prime factors of a composite number $N$ by determining the period of a function $f(x) = a^x \\mod N$. This guide, designed for undergraduate students, explains Shor’s Algorithm using linear algebra and Dirac notation, with Qiskit 2.1.1 implementations in Google Colab. Interactive visualizations and exercises balance theoretical rigor and hands-on experimentation, building on concepts from your prior guides (e.g., oracles, Grover's Algorithm).\n",
        "\n",
        "\n"
      ],
      "metadata": {
        "id": "ecDnDeMlf8R8"
      }
    },
    {
      "cell_type": "markdown",
      "source": [
        "### **Conceptual Foundations**\n",
        "\n",
        "**Problem Setup**\n",
        "\n",
        "Shor's Algorithm factors a composite number $N$ by finding the period $r$ of $f(x) = a^x \\mod N$, where $a$ is coprime to $N$. The period $r$ is the smallest integer such that $a^r \\equiv 1 \\mod N$. Factors of $N$ are derived from $r$ (e.g., using gcd: Greatest Common Divisor).\n",
        "\n",
        "Shor's algorithm efficiently factors a large integer $N$ using a quantum computer. The key steps are:\n",
        "\n",
        "1. Choose an integer $a$ such that $ 1 < a < N $ and $ \\gcd(a, N) = 1$.\n",
        "2. Define the function:\n",
        "   $$\n",
        "   f(x) = a^x \\bmod N\n",
        "   $$\n",
        "3. Use a quantum computer to find the **period** $r$ of $f(x)$, i.e., the smallest positive integer such that:\n",
        "   $$\n",
        "   a^r \\equiv 1 \\mod N\n",
        "   $$\n",
        "4. If $ r $ is even and $ a^{r/2} \\not\\equiv -1 \\mod N $, compute:\n",
        "   $$\n",
        "   \\gcd\\left(a^{r/2} \\pm 1, N\\right)\n",
        "   $$\n",
        "   to obtain nontrivial factors of $ N $.\n",
        "---\n",
        "\n",
        "**Example**: $ N = 15$\n",
        "\n",
        "1. Choose a random number $ a $\n",
        "\n",
        "Pick $a = 2 $, such that $ 1 < a < 15 $ and $\\gcd(2, 15) = 1 $.\n",
        "\n",
        "2. Define the function\n",
        "\n",
        "$$\n",
        "f(x) = 2^x \\mod 15\n",
        "$$\n",
        "\n",
        "Compute a few values:\n",
        "\n",
        "| x | $2^x$ mod 15        |\n",
        "|---|------------------|\n",
        "| 0 | 1                |\n",
        "| 1 | 2                |\n",
        "| 2 | 4                |\n",
        "| 3 | 8                |\n",
        "| 4 | 16 ≡ 1 (mod 15)  |\n",
        "\n",
        "We see that:\n",
        "\n",
        "$$\n",
        "f(x) = 2^x \\mod 15 \\text{ is periodic with period } r = 4\n",
        "$$\n",
        "\n",
        "3. Check conditions\n",
        "\n",
        "We found $ r = 4 $, which is **even**. Now compute:\n",
        "\n",
        "$$\n",
        "a^{r/2} = 2^{4/2} = 2^2 = 4\n",
        "$$\n",
        "\n",
        "Check:\n",
        "\n",
        "$$\n",
        "4 \\not\\equiv -1 \\mod 15 \\quad \\text{(since } -1 \\mod 15 = 14\\text{)}\n",
        "$$\n",
        "\n",
        "**Conditions are satisfied!**\n",
        "\n",
        "$$\n",
        "\\gcd(4 - 1, 15) = \\gcd(3, 15) = 3 \\\\\n",
        "\\gcd(4 + 1, 15) = \\gcd(5, 15) = 5\n",
        "$$\n",
        "\n",
        "We have found the nontrivial factors of $15$: $3 \\text{ and } 5$\n"
      ],
      "metadata": {
        "id": "jFOXJwxiZWyd"
      }
    },
    {
      "cell_type": "markdown",
      "source": [
        "\n",
        "\n",
        "**The quantum algorithm uses two registers**:\n",
        "\n",
        "Register 1: $n = \\lceil \\log_2(N^2) \\rceil$ qubits to store $x$.\n",
        "\n",
        "Register 2: $m = \\lceil \\log_2 N \\rceil$ qubits to store $f(x)$.\n",
        "\n",
        "For $N=15$, $n=8$, $m=4$.\n",
        "\n",
        "---\n",
        "\n",
        "**Quantum State Evolution**\n",
        "\n",
        "1. Initialize: Create a uniform superposition in Register 1: $ |\\psi_0\\rangle = \\frac{1}{\\sqrt{2^n}} \\sum_{x=0}^{2^n-1} |x\\rangle |0\\rangle $\n",
        "\n",
        "2. Modular Exponentiation: Apply the oracle\n",
        "$ U_f |x\\rangle |0\\rangle = |x\\rangle |a^x \\mod N\\rangle $: $$ |\\psi_1\\rangle = \\frac{1}{\\sqrt{2^n}} \\sum_{x=0}^{2^n-1} |x\\rangle |a^x \\mod N\\rangle $$\n",
        "\n",
        "3. QFT on Register 1: The quantum Fourier transform transforms $ |x\\rangle $ into: $$ \\text{QFT} |x\\rangle = \\frac{1}{\\sqrt{2^n}} \\sum_{k=0}^{2^n-1} e^{2\\pi i k x / 2^n} |k\\rangle $$ This produces peaks at multiples of $2^n/r$.\n",
        "\n",
        "4. Measure Register 1: Yields $k \\approx j \\cdot 2^n/r$, from which $r$ is derived via continued fractions.\n",
        "\n",
        "1.3 Linear Algebra\n",
        "\n",
        "The QFT is a unitary operator: $\\text{QFT} = \\frac{1}{\\sqrt{2^n}} \\sum_{x,k=0}^{2^n-1} e^{2\\pi i k x / 2^n} |k\\rangle\\langle x| $\n",
        "\n",
        "The modular exponentiation oracle is a permutation matrix, reversible to maintain unitarity. The final state's amplitude for $|k\\rangle$ peaks when $ k \\approx j \\cdot 2^n/r $.\n",
        "\n",
        "1.4 Probabilistic Nature and Complexity\n",
        "\n",
        "The algorithm succeeds with high probability if $r $ is even and $a^{r/2} \\not\\equiv -1 \\mod N $. The complexity is $ O((\\log N)^3) $, compared to $ O(e^{(\\log N)^{1/3}}) $ for classical factoring."
      ],
      "metadata": {
        "id": "SfYvy3fbiNl4"
      }
    },
    {
      "cell_type": "markdown",
      "source": [
        "## **Qiskit implementation**"
      ],
      "metadata": {
        "id": "mGV-b-9ok2W9"
      }
    },
    {
      "cell_type": "code",
      "execution_count": null,
      "metadata": {
        "id": "YlCOwb2aHHUD",
        "colab": {
          "base_uri": "https://localhost:8080/"
        },
        "outputId": "42c6f580-437e-4ae1-beba-d6ecbe194f8d"
      },
      "outputs": [
        {
          "output_type": "stream",
          "name": "stdout",
          "text": [
            "\u001b[2K   \u001b[90m━━━━━━━━━━━━━━━━━━━━━━━━━━━━━━━━━━━━━━━━\u001b[0m \u001b[32m7.5/7.5 MB\u001b[0m \u001b[31m45.7 MB/s\u001b[0m eta \u001b[36m0:00:00\u001b[0m\n",
            "\u001b[2K   \u001b[90m━━━━━━━━━━━━━━━━━━━━━━━━━━━━━━━━━━━━━━━━\u001b[0m \u001b[32m2.1/2.1 MB\u001b[0m \u001b[31m41.9 MB/s\u001b[0m eta \u001b[36m0:00:00\u001b[0m\n",
            "\u001b[2K   \u001b[90m━━━━━━━━━━━━━━━━━━━━━━━━━━━━━━━━━━━━━━━━\u001b[0m \u001b[32m49.5/49.5 kB\u001b[0m \u001b[31m4.0 MB/s\u001b[0m eta \u001b[36m0:00:00\u001b[0m\n",
            "\u001b[2K   \u001b[90m━━━━━━━━━━━━━━━━━━━━━━━━━━━━━━━━━━━━━━━━\u001b[0m \u001b[32m109.0/109.0 kB\u001b[0m \u001b[31m7.6 MB/s\u001b[0m eta \u001b[36m0:00:00\u001b[0m\n",
            "\u001b[?25h"
          ]
        }
      ],
      "source": [
        "%pip install qiskit --quiet"
      ]
    },
    {
      "cell_type": "code",
      "source": [
        "%pip install pylatexenc --quiet"
      ],
      "metadata": {
        "id": "vcXZkgGUTcRq",
        "colab": {
          "base_uri": "https://localhost:8080/"
        },
        "outputId": "be0298e5-e5ca-435e-f895-41fc828ba785"
      },
      "execution_count": null,
      "outputs": [
        {
          "output_type": "stream",
          "name": "stdout",
          "text": [
            "\u001b[?25l     \u001b[90m━━━━━━━━━━━━━━━━━━━━━━━━━━━━━━━━━━━━━━━━\u001b[0m \u001b[32m0.0/162.6 kB\u001b[0m \u001b[31m?\u001b[0m eta \u001b[36m-:--:--\u001b[0m\r\u001b[2K     \u001b[91m━━━━━━━━━━━━━━━━━━━━━━━━━━━\u001b[0m\u001b[90m╺\u001b[0m\u001b[90m━━━━━━━━━━━\u001b[0m \u001b[32m112.6/162.6 kB\u001b[0m \u001b[31m3.4 MB/s\u001b[0m eta \u001b[36m0:00:01\u001b[0m\r\u001b[2K     \u001b[90m━━━━━━━━━━━━━━━━━━━━━━━━━━━━━━━━━━━━━━━\u001b[0m \u001b[32m162.6/162.6 kB\u001b[0m \u001b[31m2.3 MB/s\u001b[0m eta \u001b[36m0:00:00\u001b[0m\n",
            "\u001b[?25h  Preparing metadata (setup.py) ... \u001b[?25l\u001b[?25hdone\n",
            "  Building wheel for pylatexenc (setup.py) ... \u001b[?25l\u001b[?25hdone\n"
          ]
        }
      ]
    },
    {
      "cell_type": "code",
      "source": [
        "%pip install qiskit-aer --quiet"
      ],
      "metadata": {
        "id": "xQjFpEOBULl2",
        "colab": {
          "base_uri": "https://localhost:8080/"
        },
        "outputId": "1b94f4f4-1577-480c-babd-b02c7dfde841"
      },
      "execution_count": null,
      "outputs": [
        {
          "output_type": "stream",
          "name": "stdout",
          "text": [
            "\u001b[2K   \u001b[90m━━━━━━━━━━━━━━━━━━━━━━━━━━━━━━━━━━━━━━━━\u001b[0m \u001b[32m12.4/12.4 MB\u001b[0m \u001b[31m49.5 MB/s\u001b[0m eta \u001b[36m0:00:00\u001b[0m\n",
            "\u001b[?25h"
          ]
        }
      ]
    },
    {
      "cell_type": "markdown",
      "source": [
        "This guide is compatible with Qiskit version 2.1.1"
      ],
      "metadata": {
        "id": "tV3rSKJRLhod"
      }
    },
    {
      "cell_type": "code",
      "source": [
        "import qiskit\n",
        "print(qiskit.__version__)"
      ],
      "metadata": {
        "id": "W7xxtH4lKdvV",
        "colab": {
          "base_uri": "https://localhost:8080/"
        },
        "outputId": "15e0d48a-9ced-4a2f-fc9e-c3249ad47598"
      },
      "execution_count": null,
      "outputs": [
        {
          "output_type": "stream",
          "name": "stdout",
          "text": [
            "2.1.1\n"
          ]
        }
      ]
    },
    {
      "cell_type": "markdown",
      "source": [
        "Import Qiskit modules"
      ],
      "metadata": {
        "id": "sbFDKKJwbOH2"
      }
    },
    {
      "cell_type": "code",
      "source": [
        "from qiskit import QuantumCircuit, QuantumRegister, ClassicalRegister\n",
        "from qiskit.quantum_info import Statevector, Operator\n",
        "from qiskit_aer import AerSimulator\n",
        "from qiskit.visualization import plot_histogram\n",
        "from qiskit.visualization import plot_bloch_multivector\n",
        "import matplotlib.pyplot as plt\n",
        "import numpy as np"
      ],
      "metadata": {
        "id": "Uk08iTQlUh90"
      },
      "execution_count": null,
      "outputs": []
    },
    {
      "cell_type": "code",
      "source": [
        "# GCD function for factoring\n",
        "def gcd(a, b):\n",
        "    \"\"\"Compute the greatest common divisor of a and b.\"\"\"\n",
        "    while b:\n",
        "        a, b = b, a % b\n",
        "    return a\n",
        "\n",
        "# QFT circuit\n",
        "def qft(n):\n",
        "    \"\"\"Create a Quantum Fourier Transform circuit for n qubits.\"\"\"\n",
        "    qc = QuantumCircuit(n)\n",
        "    for j in range(n-1, -1, -1):\n",
        "        qc.ry(np.pi/2, j)  # H gate equivalent\n",
        "        for k in range(j-1, -1, -1):\n",
        "            qc.cp(np.pi/2**(j-k), k, j)  # Controlled phase\n",
        "        qc.barrier()\n",
        "    for i in range(n//2):\n",
        "        qc.swap(i, n-1-i)  # Swap for bit reversal\n",
        "    return qc"
      ],
      "metadata": {
        "id": "Z2k5MrzWg5HQ"
      },
      "execution_count": null,
      "outputs": []
    },
    {
      "cell_type": "code",
      "source": [
        "# Shor's Algorithm for N=15, a=7\n",
        "N = 15  # Number to factor\n",
        "a = 7   # Coprime with N, period r=4\n",
        "n = int(np.ceil(np.emath.logn(2, 15**2)))   # Register 1: ceil(log2(N^2)) = ceil(log2(225)) = 8 qubits\n",
        "m = int(np.ceil(np.emath.logn(2, 15)))   # Register 2: ceil(log2(N)) = 4 qubits"
      ],
      "metadata": {
        "id": "NE-dMGALwNRy"
      },
      "execution_count": null,
      "outputs": []
    },
    {
      "cell_type": "code",
      "source": [
        "qc = QuantumCircuit(n + m, n)\n",
        "# Initialize: |ψ₀⟩ = 1/√(2ⁿ) ∑_x |x⟩|0⟩\n",
        "qc.ry(np.pi/2, range(n))\n",
        "qc.barrier()\n",
        "# Modular exponentiation: |x⟩|0⟩ → |x⟩|a^x mod N⟩\n",
        "# Simplified for a=7, N=15 (r=4)\n",
        "qc.x(n)  # Initialize Register 2 to |1⟩\n",
        "for i in range(n):\n",
        "    for _ in range(2**i):\n",
        "        # Controlled modular multiplication (approximated)\n",
        "        qc.cswap(i, n, n+1) #Fredkin gate\n",
        "        qc.cswap(i, n+2, n+3)\n",
        "qc.barrier()\n",
        "# QFT on Register 1: |x⟩ → 1/√(2ⁿ) ∑_k e^(2πi k x / 2ⁿ) |k⟩\n",
        "qc.compose(qft(n), range(n), inplace=True)  # Decompose QFT\n",
        "#state = Statevector.from_instruction(qc)\n",
        "#display(state.draw('latex'))"
      ],
      "metadata": {
        "id": "PI8a5MCbiJ01"
      },
      "execution_count": null,
      "outputs": []
    },
    {
      "cell_type": "code",
      "source": [
        "qc.measure(range(n), range(n))\n",
        "#qc.draw('mpl')"
      ],
      "metadata": {
        "id": "413F6YPGxxhY",
        "colab": {
          "base_uri": "https://localhost:8080/"
        },
        "outputId": "fdd3c70a-233f-449c-f18e-f7fe0e9c8e2c"
      },
      "execution_count": null,
      "outputs": [
        {
          "output_type": "execute_result",
          "data": {
            "text/plain": [
              "<qiskit.circuit.instructionset.InstructionSet at 0x7aad6af903d0>"
            ]
          },
          "metadata": {},
          "execution_count": 68
        }
      ]
    },
    {
      "cell_type": "code",
      "source": [
        "# Simulate\n",
        "simulator = AerSimulator()\n",
        "result = simulator.run(qc, shots=1000).result()\n",
        "counts = result.get_counts()\n",
        "print(\"Measurement counts:\", counts)"
      ],
      "metadata": {
        "id": "O53SBtm0xd-I",
        "colab": {
          "base_uri": "https://localhost:8080/"
        },
        "outputId": "899dfa6a-9c5a-4e44-c48e-d839ca9f3fbe"
      },
      "execution_count": null,
      "outputs": [
        {
          "output_type": "stream",
          "name": "stdout",
          "text": [
            "Measurement counts: {'11100111': 2, '11101111': 1, '11000011': 1, '10111011': 1, '01110011': 1, '11110101': 2, '11011101': 3, '00010111': 2, '11000101': 2, '01000101': 3, '00010001': 1, '11001001': 1, '10101111': 3, '01000111': 1, '10001101': 1, '01010011': 37, '10100011': 7, '00100011': 2, '10011101': 8, '11100101': 10, '10101101': 34, '01101001': 3, '11010101': 67, '01001001': 6, '11001011': 40, '11110011': 1, '01101101': 12, '10101001': 8, '10010111': 6, '01100111': 4, '11100011': 4, '00011101': 1, '00101111': 1, '00101001': 16, '11011011': 22, '01010101': 56, '00101101': 26, '01010111': 17, '11011001': 5, '10011011': 16, '10110011': 21, '10100111': 9, '01001101': 25, '00100101': 22, '11001101': 25, '01011001': 5, '01110111': 1, '00101011': 59, '10110101': 26, '10101011': 58, '11010111': 12, '01001011': 26, '00010011': 10, '11010011': 25, '01011011': 20, '01101011': 19, '10111001': 4, '00110101': 28, '01011101': 1, '00010101': 18, '01001111': 1, '11101011': 27, '01010001': 1, '01100011': 4, '10010101': 18, '10110111': 4, '00110111': 3, '01101111': 1, '01110101': 3, '11101001': 2, '00110011': 18, '00111011': 4, '00001011': 1, '10001011': 3, '00011001': 4, '10100101': 14, '01100101': 9, '10011001': 7, '11101101': 9, '00011011': 9, '10010011': 5, '00100111': 2, '00001101': 3}\n"
          ]
        }
      ]
    },
    {
      "cell_type": "code",
      "source": [
        "# Plot histogram\n",
        "plot_histogram(counts, figsize= (15, 5))"
      ],
      "metadata": {
        "id": "Dk7cUPM2iMQV",
        "colab": {
          "base_uri": "https://localhost:8080/",
          "height": 381
        },
        "outputId": "c090c75e-18a4-4636-c006-d62cf3f25ba1"
      },
      "execution_count": null,
      "outputs": [
        {
          "output_type": "execute_result",
          "data": {
            "text/plain": [
              "<Figure size 1500x500 with 1 Axes>"
            ],
            "image/png": "[encoded data removed]"
          },
          "metadata": {},
          "execution_count": 70
        }
      ]
    },
    {
      "cell_type": "code",
      "source": [
        "# Extract period and factors\n",
        "measured = max(counts, key=counts.get)  # Most frequent outcome\n",
        "k = int(measured, 2)  # Convert binary to integer\n",
        "if k != 0:\n",
        "    r = 4  # Known for a=7, N=15; in practice, use continued fractions\n",
        "    factor1 = gcd(a**(r//2) - 1, N)\n",
        "    factor2 = gcd(a**(r//2) + 1, N)\n",
        "    print(f\"Period r={r}, Factors: {factor1}, {factor2}\")\n",
        "else:\n",
        "    print(\"Trivial measurement (k=0), retry with different a\")"
      ],
      "metadata": {
        "id": "CeoVAQrJiSB6",
        "colab": {
          "base_uri": "https://localhost:8080/"
        },
        "outputId": "aa607fed-e70a-4e72-e6f1-c9cbd67c3630"
      },
      "execution_count": null,
      "outputs": [
        {
          "output_type": "stream",
          "name": "stdout",
          "text": [
            "Period r=4, Factors: 3, 5\n"
          ]
        }
      ]
    },
    {
      "cell_type": "markdown",
      "source": [
        "To report errors or suggestions: nicolasg.avilan@urosario.edu.co"
      ],
      "metadata": {
        "id": "0lL--RbkiJro"
      }
    }
  ]
}