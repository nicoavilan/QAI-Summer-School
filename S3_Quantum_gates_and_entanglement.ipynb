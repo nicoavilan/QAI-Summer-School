{
  "nbformat": 4,
  "nbformat_minor": 0,
  "metadata": {
    "colab": {
      "provenance": [],
      "authorship_tag": "ABX9TyPw6d38uUF6F0AVs161xpP2",
      "include_colab_link": true
    },
    "kernelspec": {
      "name": "python3",
      "display_name": "Python 3"
    },
    "language_info": {
      "name": "python"
    }
  },
  "cells": [
    {
      "cell_type": "markdown",
      "metadata": {
        "id": "view-in-github",
        "colab_type": "text"
      },
      "source": [
        "<a href=\"https://colab.research.google.com/github/nicoavilan/QAI-Summer-School/blob/main/S3_Quantum_gates_and_entanglement.ipynb\" target=\"_parent\"><img src=\"https://colab.research.google.com/assets/colab-badge.svg\" alt=\"Open In Colab\"/></a>"
      ]
    },
    {
      "cell_type": "markdown",
      "source": [
        "**Q-AI: Summer School on Quantum Artificial Intelligence**\n",
        "\n",
        "Universidad del Rosario - School of Science and Engineering\n",
        "\n",
        "Université du Québec à Trois-Rivières (UQTR), Canada\n",
        "\n",
        "**Fundamentals of Quantum Computing** (session 3)\n",
        "\n"
      ],
      "metadata": {
        "id": "TS_CeuT5IOtN"
      }
    },
    {
      "cell_type": "markdown",
      "source": [
        "Professor: [Nicolás Avilán Vargas](http://www.linkedin.com/in/nicoavilanv)\n",
        "\n",
        "nicolasg.avilan@urosario.edu.co"
      ],
      "metadata": {
        "id": "BB2oOdBHJnlp"
      }
    },
    {
      "cell_type": "markdown",
      "source": [
        "# **Fundamentals of Quantum Computing (session 3)**\n",
        "\n",
        "\n"
      ],
      "metadata": {
        "id": "0AtBIpvHH3Eq"
      }
    },
    {
      "cell_type": "markdown",
      "source": [
        "This guide explores *quantum gates* and *entanglement*, tailored for students with advanced quantum programming experience. It covers the linear algebra foundations, Dirac notation, and quantum state evolution for single- and multi-qubit gates, with a focus on creating and measuring entangled states (e.g., Bell and GHZ states)."
      ],
      "metadata": {
        "id": "r1KqIR3JMRef"
      }
    },
    {
      "cell_type": "markdown",
      "source": [
        "## **Quantum gates and entanglement**"
      ],
      "metadata": {
        "id": "sooNrJR1qQHU"
      }
    },
    {
      "cell_type": "markdown",
      "source": [
        "### **Tensor Products and Multi-Qubit States**\n",
        "\n",
        "The state of a multi-qubit system is described using the **tensor product** of individual qubit states. For two qubits with states $|\\psi\\rangle = \\alpha|0\\rangle + \\beta|1\\rangle$  and $ |\\phi\\rangle = \\gamma|0\\rangle + \\delta|1\\rangle$, the joint state is\n",
        "$|\\psi \\phi\\rangle = |\\psi\\rangle \\otimes |\\phi\\rangle$\n",
        "\n",
        "$$\n",
        "|\\psi\\rangle \\otimes |\\phi\\rangle = \\begin{pmatrix} \\alpha \\\\ \\beta \\end{pmatrix} \\otimes \\begin{pmatrix} \\gamma \\\\ \\delta \\end{pmatrix} = \\begin{pmatrix} \\alpha \\gamma \\\\ \\alpha \\delta \\\\ \\beta \\gamma \\\\ \\beta \\delta \\end{pmatrix} = \\alpha \\gamma |00\\rangle + \\alpha \\delta |01\\rangle + \\beta \\gamma |10\\rangle + \\beta \\delta |11\\rangle\n",
        "$$\n",
        "\n",
        "\n",
        "The Hilbert space dimension grows exponentially: an $ n $-qubit system has a $ 2^n $-dimensional state vector.\n",
        "\n",
        "A multi-qubit state is **entangled** if it cannot be written as a tensor product of single-qubit states. For example, the Bell state $\\frac{1}{\\sqrt{2}}(|00\\rangle + |11\\rangle) $ is entangled because it cannot be factored as $ |\\psi\\rangle \\otimes |\\phi\\rangle $.\n",
        "\n",
        "<font color=\"red\"> **Exercise:** </font>\n",
        "* Show that $\\frac{1}{\\sqrt{2}}(|00\\rangle + |11\\rangle) $  cannot be factored as $ |\\psi\\rangle \\otimes |\\phi\\rangle $.\n",
        "* Evaluate $|00\\rangle = |0\\rangle \\otimes |0\\rangle $ usign matrix representation.\n",
        "* Evaluate $|01\\rangle = |0\\rangle \\otimes |1\\rangle $\n",
        "* Evaluate $|10\\rangle = |1\\rangle \\otimes |0\\rangle $\n",
        "* Evaluate $|11\\rangle = |1\\rangle \\otimes |1\\rangle $\n",
        "\n",
        "There is a set of multi-qubit gates, such as CNOT and Toffoli, which operate on this tensor product space, creating entanglement by coupling qubits. These gates are unitary ($ U^\\dagger U = I $), ensuring reversibility, a key property for quantum algorithms.\n"
      ],
      "metadata": {
        "id": "tMkL7Xx52JPB"
      }
    },
    {
      "cell_type": "markdown",
      "source": [
        "### **Multi-Qubit Gates and Entanglement**\n",
        "\n",
        "Multi-qubit gates operate on multiple qubits, enabling *entanglement*. A state is **entangled** if it cannot be written as a product of single-qubit states, e.g., Bell state\n",
        "\n",
        "$$|\\psi\\rangle = \\frac{1}{\\sqrt{2}}(|00\\rangle + |11\\rangle) $$\n",
        "\n"
      ],
      "metadata": {
        "id": "G--phYYJ0N1Q"
      }
    },
    {
      "cell_type": "markdown",
      "source": [
        "#### **CNOT Gate**:\n",
        "\n",
        "\n",
        "The CNOT gate flips the target qubit if the control qubit is $|1\\rangle $\n",
        "\n",
        " $$CNOT|a\\rangle |b\\rangle = |a \\rangle|a \\oplus b\\rangle $$\n",
        "\n",
        "Example:\n",
        "* $CNOT|01\\rangle = |01\\rangle$\n",
        "* $CNOT|11\\rangle = |10\\rangle$\n",
        "\n",
        "If we consider the matrix representation for the joint state of two qubits, the CNOT gate is represented by the matrix\n",
        "\n",
        "$$\n",
        "\\text{CNOT} = \\begin{pmatrix} 1 & 0 & 0 & 0 \\\\ 0 & 1 & 0 & 0 \\\\ 0 & 0 & 0 & 1 \\\\ 0 & 0 & 1 & 0 \\end{pmatrix}\n",
        "$$\n",
        "\n",
        "<font color=\"red\"> **Exercises:** </font>\n",
        "\n",
        "Use the matrix representation for the following calculations\n",
        "* Evaluate $CNOT|00\\rangle$\n",
        "* Evaluate $CNOT|01\\rangle$\n",
        "* Evaluate $CNOT|10\\rangle$\n",
        "* Evaluate $CNOT|11\\rangle$\n",
        "* Evaluate the matrix $CNOT^2$\n",
        "\n",
        "**Creating a Bell State**\n",
        "\n",
        "1. Start with the state $|00\\rangle$\n",
        "2. Apply the operator $H\\oplus I$\n",
        "3. Apply the CNOT gate\n",
        "\n",
        "* Draw the quantum circuit.\n",
        "* Evaluate the final state.\n",
        "\n",
        "$$ H\\oplus I |00\\rangle = H|0\\rangle\\oplus I |0\\rangle = |+\\rangle |0\\rangle = \\frac{1}{\\sqrt{2}}(|00\\rangle + |10\\rangle)$$\n",
        "\n",
        "$$\n",
        "\\text{CNOT} \\left( H\\oplus I |00\\rangle \\right) = \\text{CNOT} \\left( \\frac{1}{\\sqrt{2}}(|00\\rangle + |10\\rangle) \\right) = \\frac{1}{\\sqrt{2}}(|00\\rangle + |11\\rangle)\n",
        "$$\n",
        "\n",
        "This is a Bell state, entangled because it cannot be written as a product state.\n",
        "\n",
        "\n"
      ],
      "metadata": {
        "id": "qSbfUW_lEnib"
      }
    },
    {
      "cell_type": "markdown",
      "source": [
        "#### **Toffoli Gate: Creating a GHZ State**\n",
        "\n",
        "The GHZ State is an entangled quantum state named for the three authors that first described this state ([Greenberger-Horne-Zeilinger](https://en.wikipedia.org/wiki/Greenberger-Horne-Zeilinger_state)).\n",
        "\n",
        "The Toffoli gate (CCNOT) flips the target qubit if both control qubits are $|1\\rangle$:\n",
        "$$\n",
        "\\text{Toffoli} = \\begin{pmatrix} I_{6 \\times 6} & 0 \\\\ 0 & X \\end{pmatrix}\n",
        "$$\n",
        "where $ I_{6 \\times 6} $ is the 6x6 identity matrix, and\n",
        "\n",
        "$$ X = \\begin{pmatrix} 0 & 1 \\\\ 1 & 0 \\end{pmatrix} $$\n",
        "\n",
        "To create a GHZ state $ \\frac{1}{\\sqrt{2}}(|000\\rangle + |111\\rangle)$ , combine $ H $, CNOT, and Toffoli.\n",
        "\n",
        "1. Initialization:\n",
        "    $$\n",
        "    |\\psi_0\\rangle = |000\\rangle\n",
        "    $$\n",
        "\n",
        "2. Apply a Hadamard gate to qubit 0:\n",
        "    $$\n",
        "    |\\psi_1\\rangle = (H \\otimes I \\otimes I)|000\\rangle = \\frac{1}{\\sqrt{2}}(|000\\rangle + |100\\rangle)\n",
        "    $$\n",
        "\n",
        "3. Apply a CNOT gate with the first qubit as control and the second qubit as target:\n",
        "    $$\n",
        "    |\\psi_2\\rangle  = \\text{CNOT}_{0 \\to 1} |\\psi_1\\rangle = \\frac{1}{\\sqrt{2}}(|000\\rangle + |110\\rangle)\n",
        "    $$\n",
        "\n",
        "4. Apply a CNOT gate with control qubit 0 and target qubit 2:\n",
        "    $$\n",
        "    |\\psi_3\\rangle = \\text{Toffoli} |\\psi_2\\rangle = \\frac{1}{\\sqrt{2}}(|000\\rangle + |111\\rangle)\n",
        "    $$\n"
      ],
      "metadata": {
        "id": "zXBKWRSccmeU"
      }
    }
  ]
}