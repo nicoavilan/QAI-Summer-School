{
  "nbformat": 4,
  "nbformat_minor": 0,
  "metadata": {
    "colab": {
      "provenance": [],
      "authorship_tag": "ABX9TyPkq1Wd5yf4gST7AVUtBYbz",
      "include_colab_link": true
    },
    "kernelspec": {
      "name": "python3",
      "display_name": "Python 3"
    },
    "language_info": {
      "name": "python"
    }
  },
  "cells": [
    {
      "cell_type": "markdown",
      "metadata": {
        "id": "view-in-github",
        "colab_type": "text"
      },
      "source": [
        "<a href=\"https://colab.research.google.com/github/nicoavilan/QAI-Summer-School/blob/main/S7_Quantum_Fourier_Transform_(QFT).ipynb\" target=\"_parent\"><img src=\"https://colab.research.google.com/assets/colab-badge.svg\" alt=\"Open In Colab\"/></a>"
      ]
    },
    {
      "cell_type": "markdown",
      "source": [
        "**Q-AI: Summer School on Quantum Artificial Intelligence**\n",
        "\n",
        "Universidad del Rosario - School of Science and Engineering\n",
        "\n",
        "Université du Québec à Trois-Rivières (UQTR), Canada\n",
        "\n",
        "**Fundamentals of Quantum Computing** (session 7)\n",
        "\n"
      ],
      "metadata": {
        "id": "TS_CeuT5IOtN"
      }
    },
    {
      "cell_type": "markdown",
      "source": [
        "Professor: [Nicolás Avilán Vargas](http://www.linkedin.com/in/nicoavilanv)\n",
        "\n",
        "nicolasg.avilan@urosario.edu.co"
      ],
      "metadata": {
        "id": "BB2oOdBHJnlp"
      }
    },
    {
      "cell_type": "markdown",
      "source": [
        "# **Fundamentals of Quantum Computing (session 7)**\n",
        "\n",
        "\n"
      ],
      "metadata": {
        "id": "0AtBIpvHH3Eq"
      }
    },
    {
      "cell_type": "markdown",
      "source": [
        "This guide on the Quantum Fourier Transform (QFT) for undergraduates covers its linear algebra and Dirac notation, with Qiskit 2.1.1 code in Google Colab. It features visualizations and exercises on QFT circuits,  DFT, inverse QFT, and phase estimation, linking to Shor's Algorithm."
      ],
      "metadata": {
        "id": "r1KqIR3JMRef"
      }
    },
    {
      "cell_type": "markdown",
      "source": [
        "## **Quantum Fourier Transform (QFT)**"
      ],
      "metadata": {
        "id": "6y9-_Ue5gHqb"
      }
    },
    {
      "cell_type": "markdown",
      "source": [
        "The Quantum Fourier Transform (QFT) is a cornerstone of quantum computing, enabling algorithms like Shor’s Algorithm by transforming quantum states into the frequency domain.\n",
        "\n",
        "\n"
      ],
      "metadata": {
        "id": "ecDnDeMlf8R8"
      }
    },
    {
      "cell_type": "markdown",
      "source": [
        "### **Conceptual Foundations**\n",
        "\n",
        "**Mathematical Definition**\n",
        "\n",
        "The QFT is the quantum analog of the classical Discrete Fourier Transform (DFT). For an $n$-qubit state $|x\\rangle$ (where $x$ is an integer $0 \\leq x < 2^n$), the QFT transforms:\n",
        "\n",
        "$$\\text{QFT} |x\\rangle = \\frac{1}{\\sqrt{2^n}} \\sum_{k=0}^{2^n-1} e^{2\\pi i k x / 2^n} |k\\rangle $$\n",
        "\n",
        "In matrix form, the QFT is a unitary operator:\n",
        "\n",
        "$$\\text{QFT} = \\frac{1}{\\sqrt{2^n}} \\sum_{x,k=0}^{2^n-1} e^{2\\pi i k x / 2^n} |k\\rangle\\langle x| $$\n",
        "\n",
        "For $n=2$, the QFT matrix is:\n",
        "\n",
        "$$\\text{QFT} = \\frac{1}{2} \\begin{bmatrix} 1 & 1 & 1 & 1 \\\\ 1 & i & -1 & -i \\\\ 1 & -1 & 1 & -1 \\\\ 1 & -i & -1 & i \\end{bmatrix}$$\n",
        "\n",
        "This is unitary ( $\\text{QFT}^\\dagger \\text{QFT} = I $), ensuring reversibility.\n",
        "\n",
        "---\n",
        "\n",
        "**Quantum State Evolution**\n",
        "\n",
        "The QFT maps a computational basis state $|x\\rangle = |x_{n-1} \\dots x_0\\rangle$ to:\n",
        "\n",
        "$$\\text{QFT} |x\\rangle = \\frac{1}{\\sqrt{2^n}} \\sum_{k=0}^{2^n-1} e^{2\\pi i k x / 2^n} |k\\rangle$$\n",
        "\n",
        "The output is a superposition with phases encoding $x$.\n",
        "\n",
        "For example, for $N=2^n=4$, we have\n",
        "\n",
        " $$|0\\rangle = |00\\rangle, \\quad |1\\rangle = |01\\rangle, \\quad  |2\\rangle = |10\\rangle, \\quad  |3\\rangle = |11\\rangle$$\n",
        "\n",
        "Let $x = 2$\n",
        "\n",
        "$$\\text{QFT} |2\\rangle = \\text{QFT} |10\\rangle = \\frac{1}{2} (  e^{2\\pi i (0)(2)/4} |00\\rangle + e^{2\\pi i (1)(2)/4} |01\\rangle + e^{2\\pi i (2)(2)/4} |10\\rangle + e^{2\\pi i (3)(2)/4} |11\\rangle ) \\\\ =  \\frac{1}{2} (|00\\rangle - |01\\rangle + |10\\rangle - |11\\rangle )$$\n",
        "\n",
        "---\n",
        "\n",
        "**Circuit Structure**\n",
        "\n",
        "The QFT circuit for $n$ qubits uses:\n",
        "\n",
        "Hadamard gates ($H$) to create superpositions.\n",
        "\n",
        "Controlled phase gates ($CP(\\theta) $) to introduce phases $e^{2\\pi i / 2^j}$.\n",
        "\n",
        "SWAP gates to reverse qubit order.\n",
        "\n",
        "The circuit applies $H$ to each qubit, followed by ( CP ) gates with angles $\\pi/2^j$, and final swaps.\n",
        "\n",
        "**Comparison with Classical DFT**\n",
        "\n",
        "The classical DFT maps a vector ($x_0, x_1, \\dots, x_{N-1}$) to:\n",
        "\n",
        "$$y_k = \\frac{1}{\\sqrt{N}} \\sum_{j=0}^{N-1} x_j e^{2\\pi i j k / N}$$\n",
        "\n",
        "The QFT operates on quantum amplitudes, encoding the transform in the state's phases, with complexity $O(n^2)$ versus $O(N \\log N)$ for the classical FFT $( N = 2^n )$."
      ],
      "metadata": {
        "id": "jFOXJwxiZWyd"
      }
    },
    {
      "cell_type": "markdown",
      "source": [
        "## **How QFT Highlights Periodicity**\n",
        "\n",
        "The QFT transforms a quantum state from the computational basis to the Fourier basis, encoding periodicity in the phases of the output state. In Shor's Algorithm, the goal is to find the period $ r $ of $ f(x) = a^x \\mod N $, where\n",
        "$$ f(x + r) = f(x) $$\n",
        "\n",
        "**Input State After Modular Exponentiation**:\n",
        "\n",
        "After applying the modular exponentiation oracle in Shor’s Algorithm, the state of the quantum system (with $ n $ qubits in Register 1 and $ m $ qubits in Register 2) is:\n",
        "$$|\\psi_1\\rangle = \\frac{1}{\\sqrt{2^n}} \\sum_{x=0}^{2^n-1} |x\\rangle |a^x \\mod N\\rangle$$\n",
        "\n",
        "Since $ f(x) = a^x \\mod N $ is periodic with period $ r $, the state has non-zero amplitudes only for $ |a^x \\mod N\\rangle $ where $ x $ corresponds to the periodic sequence (e.g., for $ N=10 $, $ a=3 $, $ f(x) = \\{1, 3, 9, 7, 1, \\ldots\\} $, $ r=4 $).\n",
        "\n",
        "\n",
        "**QFT Application**:\n",
        "\n",
        "The QFT is applied to Register 1:\n",
        "$$\\text{QFT} |x\\rangle = \\frac{1}{\\sqrt{2^n}} \\sum_{k=0}^{2^n-1} e^{2\\pi i k x / 2^n} |k\\rangle$$\n",
        "\n",
        "For the full state:\n",
        "$$\\text{QFT} |\\psi_1\\rangle = \\frac{1}{\\sqrt{2^n}} \\sum_{x=0}^{2^n-1} \\left( \\frac{1}{\\sqrt{2^n}} \\sum_{k=0}^{2^n-1} e^{2\\pi i k x / 2^n} |k\\rangle \\right) |a^x \\mod N\\rangle$$\n",
        "\n",
        "Due to the periodicity of $ f(x) $, the QFT amplifies amplitudes at $ k \\approx j \\cdot 2^n/r $ (where $ j $ is an integer) through constructive interference, while other $ k $ values cancel out due to destructive interference.\n",
        "\n",
        "\n",
        "Constructive Interference:\n",
        "\n",
        "The QFT’s phase terms $ e^{2\\pi i k x / 2^n} $ align for $ x $ values spaced by $ r $, causing peaks in the probability distribution at:\n",
        "$$k \\approx j \\cdot \\frac{2^n}{r}$$\n",
        "\n",
        "This is analogous to the classical DFT detecting frequencies in a periodic signal. The QFT “puts periodicity in evidence” by concentrating probability on these $ k $ values.\n",
        "\n",
        "\n",
        "Measurement:\n",
        "\n",
        "Measuring Register 1 yields $ k $, which is approximately a multiple of $ 2^n/r $. The period $ r $ can be extracted using continued fractions."
      ],
      "metadata": {
        "id": "7lPTLwaNk2TB"
      }
    },
    {
      "cell_type": "markdown",
      "source": [
        "## **Qiskit implementation**"
      ],
      "metadata": {
        "id": "mGV-b-9ok2W9"
      }
    },
    {
      "cell_type": "code",
      "execution_count": null,
      "metadata": {
        "id": "YlCOwb2aHHUD"
      },
      "outputs": [],
      "source": [
        "%pip install qiskit --quiet"
      ]
    },
    {
      "cell_type": "code",
      "source": [
        "%pip install pylatexenc --quiet"
      ],
      "metadata": {
        "id": "vcXZkgGUTcRq"
      },
      "execution_count": null,
      "outputs": []
    },
    {
      "cell_type": "code",
      "source": [
        "%pip install qiskit-aer --quiet"
      ],
      "metadata": {
        "id": "xQjFpEOBULl2"
      },
      "execution_count": null,
      "outputs": []
    },
    {
      "cell_type": "markdown",
      "source": [
        "This guide is compatible with Qiskit version 2.1.1"
      ],
      "metadata": {
        "id": "tV3rSKJRLhod"
      }
    },
    {
      "cell_type": "code",
      "source": [
        "import qiskit\n",
        "print(qiskit.__version__)"
      ],
      "metadata": {
        "id": "W7xxtH4lKdvV"
      },
      "execution_count": null,
      "outputs": []
    },
    {
      "cell_type": "markdown",
      "source": [
        "Import Qiskit modules"
      ],
      "metadata": {
        "id": "sbFDKKJwbOH2"
      }
    },
    {
      "cell_type": "code",
      "source": [
        "from qiskit import QuantumCircuit, QuantumRegister, ClassicalRegister\n",
        "from qiskit.quantum_info import Statevector, Operator\n",
        "from qiskit_aer import AerSimulator\n",
        "from qiskit.visualization import plot_histogram\n",
        "from qiskit.visualization import plot_bloch_multivector\n",
        "import matplotlib.pyplot as plt\n",
        "import numpy as np\n",
        "import plotly.graph_objects as go"
      ],
      "metadata": {
        "id": "Uk08iTQlUh90"
      },
      "execution_count": null,
      "outputs": []
    },
    {
      "cell_type": "code",
      "source": [
        "# QFT circuit for n=3\n",
        "def qft(n):\n",
        "    \"\"\"Create a Quantum Fourier Transform circuit for n qubits.\"\"\"\n",
        "    qc = QuantumCircuit(n)\n",
        "    for j in range(n-1, -1, -1):\n",
        "        qc.ry(np.pi/2, j)  # H gate equivalent\n",
        "        for k in range(j-1, -1, -1):\n",
        "            qc.cp(np.pi/2**(j-k), k, j)  # Controlled phase\n",
        "        qc.barrier()\n",
        "    for i in range(n//2):\n",
        "        qc.swap(i, n-1-i)  # Swap for bit reversal\n",
        "    return qc"
      ],
      "metadata": {
        "id": "uBPJC2cIDjlW"
      },
      "execution_count": null,
      "outputs": []
    },
    {
      "cell_type": "code",
      "source": [
        "# Create circuit\n",
        "n = 2\n",
        "qc = QuantumCircuit(n, n)\n",
        "qc.x(1)  # Input: |x=2⟩ = |10⟩\n",
        "qc.compose(qft(n), range(n), inplace=True)  # Use compose instead of append\n",
        "qc.measure(range(n), range(n))"
      ],
      "metadata": {
        "id": "4_UB8t17RKep"
      },
      "execution_count": null,
      "outputs": []
    },
    {
      "cell_type": "code",
      "source": [
        "# Simulate\n",
        "simulator = AerSimulator()\n",
        "result = simulator.run(qc, shots=1000).result()\n",
        "counts = result.get_counts()\n",
        "print(\"Measurement counts:\", counts)"
      ],
      "metadata": {
        "id": "wZicfVnbRNKh"
      },
      "execution_count": null,
      "outputs": []
    },
    {
      "cell_type": "code",
      "source": [
        "# Plot histogram\n",
        "fig = go.Figure(data=[\n",
        "    go.Bar(x=list(counts.keys()), y=list(counts.values()))\n",
        "])\n",
        "fig.update_layout(title=\"QAI Summer School - QFT Outcomes (n=2, input |10⟩)\",\n",
        "                  xaxis_title=\"Measurement\", yaxis_title=\"Counts\")\n",
        "fig.show()"
      ],
      "metadata": {
        "id": "gjt8FLiERQA7"
      },
      "execution_count": null,
      "outputs": []
    },
    {
      "cell_type": "code",
      "source": [
        "# Statevector\n",
        "qc_state = QuantumCircuit(n)\n",
        "qc_state.x(1)\n",
        "qc_state.compose(qft(n), range(n), inplace=True)\n",
        "state = Statevector.from_instruction(qc_state)\n",
        "state.draw(\"latex\")\n",
        "#print(\"Statevector:\", np.round(state.data, decimals=4))"
      ],
      "metadata": {
        "id": "wySI2vZTRTkA"
      },
      "execution_count": null,
      "outputs": []
    },
    {
      "cell_type": "code",
      "source": [
        "# Draw circuit\n",
        "print(\"\\nCircuit diagram:\")\n",
        "qc.draw('mpl')"
      ],
      "metadata": {
        "id": "idYzIG2-Q9F1"
      },
      "execution_count": null,
      "outputs": []
    },
    {
      "cell_type": "markdown",
      "source": [
        "To report errors or suggestions: nicolasg.avilan@urosario.edu.co"
      ],
      "metadata": {
        "id": "0lL--RbkiJro"
      }
    }
  ]
}