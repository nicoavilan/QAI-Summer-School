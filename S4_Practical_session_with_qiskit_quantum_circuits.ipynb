{
  "nbformat": 4,
  "nbformat_minor": 0,
  "metadata": {
    "colab": {
      "provenance": [],
      "authorship_tag": "ABX9TyOjLJjhvV1fu+XUugYSYLd0",
      "include_colab_link": true
    },
    "kernelspec": {
      "name": "python3",
      "display_name": "Python 3"
    },
    "language_info": {
      "name": "python"
    }
  },
  "cells": [
    {
      "cell_type": "markdown",
      "metadata": {
        "id": "view-in-github",
        "colab_type": "text"
      },
      "source": [
        "<a href=\"https://colab.research.google.com/github/nicoavilan/QAI-Summer-School/blob/main/S4_Practical_session_with_qiskit_quantum_circuits.ipynb\" target=\"_parent\"><img src=\"https://colab.research.google.com/assets/colab-badge.svg\" alt=\"Open In Colab\"/></a>"
      ]
    },
    {
      "cell_type": "markdown",
      "source": [
        "**Q-AI: Summer School on Quantum Artificial Intelligence**\n",
        "\n",
        "Universidad del Rosario - School of Science and Engineering\n",
        "\n",
        "Université du Québec à Trois-Rivières (UQTR), Canada\n",
        "\n",
        "**Fundamentals of Quantum Computing** (session 1)\n",
        "\n"
      ],
      "metadata": {
        "id": "TS_CeuT5IOtN"
      }
    },
    {
      "cell_type": "markdown",
      "source": [
        "Professor: [Nicolás Avilán Vargas](http://www.linkedin.com/in/nicoavilanv)\n",
        "\n",
        "nicolasg.avilan@urosario.edu.co"
      ],
      "metadata": {
        "id": "BB2oOdBHJnlp"
      }
    },
    {
      "cell_type": "markdown",
      "source": [
        "# **Fundamentals of Quantum Computing (session 4)**\n",
        "\n",
        "\n"
      ],
      "metadata": {
        "id": "0AtBIpvHH3Eq"
      }
    },
    {
      "cell_type": "markdown",
      "source": [
        "This guide explores *quantum gates* and *entanglement* using *Qiskit 2.1.1* in Google Colab, tailored for students with advanced quantum programming experience. It covers the linear algebra foundations, Dirac notation, and quantum state evolution for single- and multi-qubit gates, with a focus on creating and measuring entangled states (e.g., Bell and GHZ states). Rigorous code examples, visualizations (Matplotlib and Plotly), and challenging exercises deepen understanding of unitary transformations and measurement outcomes."
      ],
      "metadata": {
        "id": "r1KqIR3JMRef"
      }
    },
    {
      "cell_type": "markdown",
      "source": [
        "## **Practical session with qiskit: quantum circuits**"
      ],
      "metadata": {
        "id": "mGV-b-9ok2W9"
      }
    },
    {
      "cell_type": "markdown",
      "source": [
        "**Install Qiskit**"
      ],
      "metadata": {
        "id": "4sxwVEsaPy3Z"
      }
    },
    {
      "cell_type": "code",
      "execution_count": null,
      "metadata": {
        "id": "YlCOwb2aHHUD"
      },
      "outputs": [],
      "source": [
        "%pip install qiskit --quiet"
      ]
    },
    {
      "cell_type": "code",
      "source": [
        "%pip install pylatexenc --quiet"
      ],
      "metadata": {
        "id": "vcXZkgGUTcRq"
      },
      "execution_count": null,
      "outputs": []
    },
    {
      "cell_type": "code",
      "source": [
        "%pip install qiskit-aer --quiet"
      ],
      "metadata": {
        "id": "xQjFpEOBULl2"
      },
      "execution_count": null,
      "outputs": []
    },
    {
      "cell_type": "markdown",
      "source": [
        "This guide is compatible with Qiskit version 2.1.1"
      ],
      "metadata": {
        "id": "tV3rSKJRLhod"
      }
    },
    {
      "cell_type": "code",
      "source": [
        "import qiskit\n",
        "print(qiskit.__version__)"
      ],
      "metadata": {
        "id": "W7xxtH4lKdvV"
      },
      "execution_count": null,
      "outputs": []
    },
    {
      "cell_type": "markdown",
      "source": [
        "Import Qiskit modules"
      ],
      "metadata": {
        "id": "sbFDKKJwbOH2"
      }
    },
    {
      "cell_type": "code",
      "source": [
        "from qiskit import QuantumCircuit, QuantumRegister, ClassicalRegister\n",
        "from qiskit.quantum_info import Statevector, Operator\n",
        "from qiskit_aer import AerSimulator\n",
        "from qiskit.visualization import plot_histogram\n",
        "from qiskit.visualization import plot_bloch_multivector\n",
        "import matplotlib.pyplot as plt\n",
        "import numpy as np"
      ],
      "metadata": {
        "id": "Uk08iTQlUh90"
      },
      "execution_count": null,
      "outputs": []
    },
    {
      "cell_type": "markdown",
      "source": [
        "## Create and measure a Bell state"
      ],
      "metadata": {
        "id": "dTqmpxkpmDEa"
      }
    },
    {
      "cell_type": "code",
      "source": [
        "qc = QuantumCircuit(2, 2)\n",
        "qc.h(0)  # Create |+⟩ on qubit 0\n",
        "qc.cx(0, 1)  # Apply CNOT\n",
        "unitary = Operator.from_circuit(qc).data\n",
        "display(Operator.from_circuit(unitary).draw(\"latex\"))"
      ],
      "metadata": {
        "id": "UPv24uuumEmO"
      },
      "execution_count": null,
      "outputs": []
    },
    {
      "cell_type": "code",
      "source": [
        "state = Statevector.from_instruction(qc)\n",
        "state.draw('latex')"
      ],
      "metadata": {
        "id": "-R7PTW8z0y5l"
      },
      "execution_count": null,
      "outputs": []
    },
    {
      "cell_type": "code",
      "source": [
        "qc.measure([0, 1], [0, 1])\n",
        "qc.draw('mpl')"
      ],
      "metadata": {
        "id": "kfDa1qZWrDWT"
      },
      "execution_count": null,
      "outputs": []
    },
    {
      "cell_type": "code",
      "source": [
        "simulator = AerSimulator()\n",
        "result = simulator.run(qc, shots=1000).result()\n",
        "counts = result.get_counts()\n",
        "print(\"Bell state counts:\", counts)"
      ],
      "metadata": {
        "id": "WCDV6n7OmQwR"
      },
      "execution_count": null,
      "outputs": []
    },
    {
      "cell_type": "code",
      "source": [
        "plot_histogram(counts)"
      ],
      "metadata": {
        "id": "hPHVkQcfmT8n"
      },
      "execution_count": null,
      "outputs": []
    },
    {
      "cell_type": "markdown",
      "source": [
        "## **Create and measure a GHZ state (1)**"
      ],
      "metadata": {
        "id": "hFJh_Vz6m-fd"
      }
    },
    {
      "cell_type": "code",
      "source": [
        "qc = QuantumCircuit(3, 3)\n",
        "qc.h( 0)  # Create |+⟩ on qubit 0\n",
        "qc.cx(0, 1)  # Entangle qubits 0 and 1\n",
        "qc.ccx(0, 1, 2)  # Toffoli to entangle qubit 2\n",
        "unitary = Operator.from_circuit(qc).data\n",
        "display(Operator.from_circuit(unitary).draw(\"latex\"))"
      ],
      "metadata": {
        "id": "gNTpZklMm-GC"
      },
      "execution_count": null,
      "outputs": []
    },
    {
      "cell_type": "code",
      "source": [
        "state = Statevector.from_instruction(qc)\n",
        "state.draw('latex')"
      ],
      "metadata": {
        "id": "Sms1VNMK1G6Y"
      },
      "execution_count": null,
      "outputs": []
    },
    {
      "cell_type": "code",
      "source": [
        "qc.measure([0, 1, 2], [0, 1, 2])\n",
        "qc.draw('mpl')"
      ],
      "metadata": {
        "id": "W7B7UH7xrSj2"
      },
      "execution_count": null,
      "outputs": []
    },
    {
      "cell_type": "code",
      "source": [
        "simulator = AerSimulator()\n",
        "result = simulator.run(qc, shots=1000).result()\n",
        "counts = result.get_counts()\n",
        "print(\"GHZ state counts:\", counts)"
      ],
      "metadata": {
        "id": "Z_vVGLS_naDP"
      },
      "execution_count": null,
      "outputs": []
    },
    {
      "cell_type": "code",
      "source": [
        "plot_histogram(counts)"
      ],
      "metadata": {
        "id": "TsfOpp5unckY"
      },
      "execution_count": null,
      "outputs": []
    },
    {
      "cell_type": "markdown",
      "source": [
        "## **Create and measure a GHZ state (2)**"
      ],
      "metadata": {
        "id": "dbcgGsfJpiHj"
      }
    },
    {
      "cell_type": "code",
      "source": [
        "qc = QuantumCircuit(3, 3)\n",
        "qc.h( 0)  # Create |+⟩ on qubit 0\n",
        "qc.cx(0, 1)  # Entangle qubits 0 and 1\n",
        "qc.cx(1, 2)  # Entangle qubits 1 and 2\n",
        "state = Statevector.from_instruction(qc)\n",
        "state.draw('latex')"
      ],
      "metadata": {
        "id": "dSal1WXcpiHj"
      },
      "execution_count": null,
      "outputs": []
    },
    {
      "cell_type": "code",
      "source": [
        "qc.measure([0, 1, 2], [0, 1, 2])\n",
        "qc.draw('mpl')"
      ],
      "metadata": {
        "id": "W0n34ryUq7mC"
      },
      "execution_count": null,
      "outputs": []
    },
    {
      "cell_type": "code",
      "source": [
        "simulator = AerSimulator()\n",
        "result = simulator.run(qc, shots=1000).result()\n",
        "counts = result.get_counts()\n",
        "print(\"GHZ state counts:\", counts)"
      ],
      "metadata": {
        "id": "XoQU_X5ApiHk"
      },
      "execution_count": null,
      "outputs": []
    },
    {
      "cell_type": "code",
      "source": [
        "plot_histogram(counts)"
      ],
      "metadata": {
        "id": "REls0ciVpiHk"
      },
      "execution_count": null,
      "outputs": []
    },
    {
      "cell_type": "markdown",
      "source": [
        "# Suggested exercices 4\n",
        "\n",
        "These exercises are part of the exam for the [Basics of Quantum Information](https://quantum.cloud.ibm.com/learning/en/courses/basics-of-quantum-information) course."
      ],
      "metadata": {
        "id": "zSL_tRqMXCIJ"
      }
    },
    {
      "cell_type": "markdown",
      "source": [
        "**Exercise 1**\n",
        "\n",
        "* Compute the output of the quantum circuit\n",
        "* Compute the unitary matrix for the quantum circuit\n",
        "\n",
        "![image.png](data:image/png;base64,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)"
      ],
      "metadata": {
        "id": "t9SU0XLQYp3H"
      }
    },
    {
      "cell_type": "code",
      "source": [],
      "metadata": {
        "id": "NBccXpMh4v_H"
      },
      "execution_count": null,
      "outputs": []
    },
    {
      "cell_type": "markdown",
      "source": [
        "**Exercise 2**\n",
        "\n",
        "* Compute the output of the quantum circuit\n",
        "* Compute the unitary matrix for the quantum circuit\n",
        "\n",
        "![image.png](data:image/png;base64,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)"
      ],
      "metadata": {
        "id": "GK-kAhuAYtMZ"
      }
    },
    {
      "cell_type": "code",
      "source": [],
      "metadata": {
        "id": "e1k7ARSvTr0Z"
      },
      "execution_count": null,
      "outputs": []
    },
    {
      "cell_type": "markdown",
      "source": [
        "To report errors or suggestions: nicolasg.avilan@urosario.edu.co"
      ],
      "metadata": {
        "id": "0lL--RbkiJro"
      }
    }
  ]
}