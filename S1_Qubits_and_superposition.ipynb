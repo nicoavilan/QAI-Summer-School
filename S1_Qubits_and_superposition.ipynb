{
  "nbformat": 4,
  "nbformat_minor": 0,
  "metadata": {
    "colab": {
      "provenance": [],
      "include_colab_link": true
    },
    "kernelspec": {
      "name": "python3",
      "display_name": "Python 3"
    },
    "language_info": {
      "name": "python"
    }
  },
  "cells": [
    {
      "cell_type": "markdown",
      "metadata": {
        "id": "view-in-github",
        "colab_type": "text"
      },
      "source": [
        "<a href=\"https://colab.research.google.com/github/nicoavilan/QAI-Summer-School/blob/main/S1_Qubits_and_superposition.ipynb\" target=\"_parent\"><img src=\"https://colab.research.google.com/assets/colab-badge.svg\" alt=\"Open In Colab\"/></a>"
      ]
    },
    {
      "cell_type": "markdown",
      "source": [
        "**Q-AI: Summer School on Quantum Artificial Intelligence**\n",
        "\n",
        "Universidad del Rosario - School of Science and Engineering\n",
        "\n",
        "Université du Québec à Trois-Rivières (UQTR), Canada\n",
        "\n",
        "**Fundamentals of Quantum Computing** (session 1)\n",
        "\n"
      ],
      "metadata": {
        "id": "TS_CeuT5IOtN"
      }
    },
    {
      "cell_type": "markdown",
      "source": [
        "Professor: [Nicolás Avilán Vargas](http://www.linkedin.com/in/nicoavilanv)\n",
        "\n",
        "nicolasg.avilan@urosario.edu.co"
      ],
      "metadata": {
        "id": "BB2oOdBHJnlp"
      }
    },
    {
      "cell_type": "markdown",
      "source": [
        "# **Fundamentals: qubits and superposition** (sesion 1)\n",
        "\n",
        "\n"
      ],
      "metadata": {
        "id": "0AtBIpvHH3Eq"
      }
    },
    {
      "cell_type": "markdown",
      "source": [
        "This guide introduces Qiskit, a powerful open-source quantum computing framework developed by IBM, designed to run in Google Colab. It is tailored for beginners with no prior experience in quantum programming. You'll learn fundamental quantum computing concepts, build simple quantum circuits, visualize results, and complete practical exercises to solidify your understanding."
      ],
      "metadata": {
        "id": "r1KqIR3JMRef"
      }
    },
    {
      "cell_type": "markdown",
      "source": [
        "`%pip install` ensures the package is installed in the same Python environment that the notebook is using.\n",
        "\n",
        "Explicitly targets the notebook's active Python kernel, making it more reliable for ensuring the installed package is immediately available for use in the notebook.\n",
        "Advantages:\n",
        "* Avoids environment mismatches by installing directly into the kernel's environment.\n",
        "* Often includes additional logic to handle notebook-specific requirements (e.g., restarting the kernel if needed, though this is rare in Colab)."
      ],
      "metadata": {
        "id": "MpOXYp7cT6FK"
      }
    },
    {
      "cell_type": "markdown",
      "source": [
        "## Install Qiskit"
      ],
      "metadata": {
        "id": "4sxwVEsaPy3Z"
      }
    },
    {
      "cell_type": "code",
      "execution_count": null,
      "metadata": {
        "id": "YlCOwb2aHHUD"
      },
      "outputs": [],
      "source": [
        "%pip install qiskit --quiet"
      ]
    },
    {
      "cell_type": "code",
      "source": [
        "%pip install pylatexenc --quiet"
      ],
      "metadata": {
        "id": "vcXZkgGUTcRq"
      },
      "execution_count": null,
      "outputs": []
    },
    {
      "cell_type": "code",
      "source": [
        "%pip install qiskit-aer --quiet"
      ],
      "metadata": {
        "id": "xQjFpEOBULl2"
      },
      "execution_count": null,
      "outputs": []
    },
    {
      "cell_type": "markdown",
      "source": [
        "This guide is compatible with Qiskit version 2.1.1"
      ],
      "metadata": {
        "id": "tV3rSKJRLhod"
      }
    },
    {
      "cell_type": "code",
      "source": [
        "import qiskit\n",
        "print(qiskit.__version__)"
      ],
      "metadata": {
        "id": "W7xxtH4lKdvV"
      },
      "execution_count": null,
      "outputs": []
    },
    {
      "cell_type": "markdown",
      "source": [
        "Import Qiskit modules"
      ],
      "metadata": {
        "id": "sbFDKKJwbOH2"
      }
    },
    {
      "cell_type": "code",
      "source": [
        "from qiskit import QuantumCircuit, QuantumRegister, ClassicalRegister\n",
        "from qiskit.quantum_info import Statevector, Operator\n",
        "from qiskit_aer import AerSimulator\n",
        "from qiskit.visualization import plot_histogram\n",
        "from qiskit.visualization import plot_bloch_multivector\n",
        "import matplotlib.pyplot as plt\n",
        "import numpy as np"
      ],
      "metadata": {
        "id": "Uk08iTQlUh90"
      },
      "execution_count": null,
      "outputs": []
    },
    {
      "cell_type": "markdown",
      "source": [
        "## Quantum states 1"
      ],
      "metadata": {
        "id": "JavRk1kWf-7L"
      }
    },
    {
      "cell_type": "markdown",
      "source": [
        "Now we define quantum states"
      ],
      "metadata": {
        "id": "W_JwoLPnbbxS"
      }
    },
    {
      "cell_type": "code",
      "source": [
        "u = Statevector([(1 + 2.0j) / 3, -2 / 3])\n",
        "v = Statevector([1 / 3, 2 / 3])"
      ],
      "metadata": {
        "id": "mIPoYRDokmeh"
      },
      "execution_count": null,
      "outputs": []
    },
    {
      "cell_type": "markdown",
      "source": [
        "The `.draw(\"latex\")` method allows us to visualize the quantum state using Dirac's bra-ket notation."
      ],
      "metadata": {
        "id": "EbJ88X9Mbh4v"
      }
    },
    {
      "cell_type": "code",
      "source": [
        "u.draw(\"latex\")"
      ],
      "metadata": {
        "id": "7gQM7YC-k1Pr"
      },
      "execution_count": null,
      "outputs": []
    },
    {
      "cell_type": "markdown",
      "source": [
        "The squared magnitudes of the state coefficients represent the probabilities of measuring the system in each corresponding quantum state."
      ],
      "metadata": {
        "id": "L8ng-ZXAcQ_X"
      }
    },
    {
      "cell_type": "code",
      "source": [
        "u.probabilities()"
      ],
      "metadata": {
        "id": "4Ig1Le8ClCXF"
      },
      "execution_count": null,
      "outputs": []
    },
    {
      "cell_type": "code",
      "source": [
        "v.draw(\"latex\")"
      ],
      "metadata": {
        "id": "U4yG8Aimk4QI"
      },
      "execution_count": null,
      "outputs": []
    },
    {
      "cell_type": "code",
      "source": [
        "v.probabilities()"
      ],
      "metadata": {
        "id": "iBaE9uwulDT_"
      },
      "execution_count": null,
      "outputs": []
    },
    {
      "cell_type": "markdown",
      "source": [
        "It is necessary to verify whether a quantum state is properly defined, which typically involves ensuring that it is normalized."
      ],
      "metadata": {
        "id": "oYtbFn5qdQS5"
      }
    },
    {
      "cell_type": "code",
      "source": [
        "display(u.is_valid())\n",
        "display(v.is_valid())"
      ],
      "metadata": {
        "id": "dAruTmAwlJJR"
      },
      "execution_count": null,
      "outputs": []
    },
    {
      "cell_type": "code",
      "source": [
        "print(u.probabilities().sum())"
      ],
      "metadata": {
        "id": "ffPDCEG9lL4I"
      },
      "execution_count": null,
      "outputs": []
    },
    {
      "cell_type": "code",
      "source": [
        "print(v.probabilities().sum())"
      ],
      "metadata": {
        "id": "TNCzo5gGlP2p"
      },
      "execution_count": null,
      "outputs": []
    },
    {
      "cell_type": "markdown",
      "source": [
        "The quantum state of a single qubit can be visualized on the [Bloch sphere](https://en.wikipedia.org/wiki/Bloch_sphere)."
      ],
      "metadata": {
        "id": "gXrRmUWfdEOT"
      }
    },
    {
      "cell_type": "code",
      "source": [
        "plot_bloch_multivector(u)"
      ],
      "metadata": {
        "id": "PYIKbQv1m0zY"
      },
      "execution_count": null,
      "outputs": []
    },
    {
      "cell_type": "markdown",
      "source": [
        "**Quantum Measurement Procedure**"
      ],
      "metadata": {
        "id": "B-GmrHKBlYRB"
      }
    },
    {
      "cell_type": "code",
      "source": [
        "print(u.measure()[0])"
      ],
      "metadata": {
        "id": "_FN1bDUgle2L"
      },
      "execution_count": null,
      "outputs": []
    },
    {
      "cell_type": "markdown",
      "source": [
        "Each measurement gives a different result. We could save the result of some specific"
      ],
      "metadata": {
        "id": "sn6k1INJhqxm"
      }
    },
    {
      "cell_type": "code",
      "source": [
        "u_ = u.measure()\n",
        "u_"
      ],
      "metadata": {
        "id": "bPtjGb3Wlof_"
      },
      "execution_count": null,
      "outputs": []
    },
    {
      "cell_type": "code",
      "source": [
        "#print(u_)  # Print the complete output tuple.\n",
        "#print(u_[0])  # Display the measurement result.\n",
        "#u_[1].draw(\"latex\")  # Display the collapsed quantum state after measurement.\n",
        "#print(u_[1].probabilities())  # Display the probability distribution after measurement."
      ],
      "metadata": {
        "id": "rX5iExvUlvxW"
      },
      "execution_count": null,
      "outputs": []
    },
    {
      "cell_type": "code",
      "source": [
        "statistics = u.sample_counts(1000)  # Record the outcome frequencies from 1000 measurement samples.\n",
        "statistics"
      ],
      "metadata": {
        "id": "jjJSq5yymhGl"
      },
      "execution_count": null,
      "outputs": []
    },
    {
      "cell_type": "code",
      "source": [
        "u.probabilities()"
      ],
      "metadata": {
        "id": "_S1Fcb5Mmo2g"
      },
      "execution_count": null,
      "outputs": []
    },
    {
      "cell_type": "code",
      "source": [
        "plot_histogram(statistics)"
      ],
      "metadata": {
        "id": "TOvl7Lzhmmmp"
      },
      "execution_count": null,
      "outputs": []
    },
    {
      "cell_type": "markdown",
      "source": [
        "### Excercise:\n",
        "\n",
        "* Define the quantum state\n",
        "$|\\psi \\rangle = \\frac{1}{\\sqrt 2}|0 \\rangle - \\frac{1}{\\sqrt 2}|1 \\rangle$\n",
        "* Verify if $∣\\psi \\rangle$ is a well-defined quantum state.\n",
        "* Evaluate the probabilities of measuring $∣\\psi \\rangle$ in the computational basis.\n",
        "* Plot $∣\\psi \\rangle$ on the Bloch sphere.\n",
        "* Simulate multiple measurements to verify the probabilities empirically.\n"
      ],
      "metadata": {
        "id": "QxbDcxr5d-Id"
      }
    },
    {
      "cell_type": "markdown",
      "source": [
        "## Quantum states 2"
      ],
      "metadata": {
        "id": "D-5_7io1gG4I"
      }
    },
    {
      "cell_type": "markdown",
      "source": [
        "Previously, we defined a quantum state explicitly as a single vector. In practical quantum algorithms, however, it is typical to start by designing quantum circuits, where qubits are implicitly created and their evolution is governed by the sequence of quantum gates applied."
      ],
      "metadata": {
        "id": "xdhiHiWgmMFn"
      }
    },
    {
      "cell_type": "markdown",
      "source": [
        "Create a quantum circuit with 1 qubit and 1 classical bit\n",
        "\n",
        "Qubits are automatically initialized to |0⟩\n",
        "\n",
        "The `.h(0)` command applies a Hadamard gate to qubit 0, placing it into a superposition of the basis states ∣0⟩ and ∣1⟩."
      ],
      "metadata": {
        "id": "klAc2tOyoydd"
      }
    },
    {
      "cell_type": "code",
      "source": [
        "qc = QuantumCircuit(1, 1)\n",
        "\n",
        "qc.h(0)\n",
        "\n",
        "# Measure the qubit and store result in classical bit\n",
        "qc.measure(0, 0)\n",
        "\n",
        "# Draw the circuit\n",
        "qc.draw('mpl')"
      ],
      "metadata": {
        "id": "62CpR6pdUr3x"
      },
      "execution_count": null,
      "outputs": []
    },
    {
      "cell_type": "markdown",
      "source": [
        "Now, we simulate multiple measurements to empirically verify the probabilities of the resulting quantum state in the circuit."
      ],
      "metadata": {
        "id": "2riU4ZSBqBjT"
      }
    },
    {
      "cell_type": "code",
      "source": [
        "# Initialize the simulator\n",
        "simulator = AerSimulator()\n",
        "\n",
        "# Run the circuit with 1024 shots\n",
        "result = simulator.run(qc, shots=1024).result()\n",
        "\n",
        "# Get and plot measurement outcomes\n",
        "counts = result.get_counts()\n",
        "display(plot_histogram(counts))"
      ],
      "metadata": {
        "id": "m4BPqms5U8_r"
      },
      "execution_count": null,
      "outputs": []
    },
    {
      "cell_type": "markdown",
      "source": [
        "## Quantum states 3"
      ],
      "metadata": {
        "id": "0pmBiTNUy0A4"
      }
    },
    {
      "cell_type": "markdown",
      "source": [
        "Once again, we begin by designing a quantum circuit, where the qubit is implicitly initialized and its evolution is governed by the sequence of quantum gates applied.\n"
      ],
      "metadata": {
        "id": "8IUK_jkczB1u"
      }
    },
    {
      "cell_type": "code",
      "source": [
        "# Create a circuit with 1 qubit (no measurement)\n",
        "qc = QuantumCircuit(1)\n",
        "# Qubit initialized to |0⟩\n",
        "qc.h(0)  # Apply Hadamard gate for superposition\n",
        "qc.save_statevector()   # Explicitly save the statevector\n",
        "\n",
        "qc.draw('mpl')"
      ],
      "metadata": {
        "id": "1zS-_es9VjCG"
      },
      "execution_count": null,
      "outputs": []
    },
    {
      "cell_type": "code",
      "source": [
        "# Use statevector simulator\n",
        "simulator = AerSimulator(method='statevector')\n",
        "result = simulator.run(qc).result()\n",
        "statevector = result.get_statevector()\n",
        "statevector.draw('latex')"
      ],
      "metadata": {
        "id": "URl5mRHHzk7Z"
      },
      "execution_count": null,
      "outputs": []
    },
    {
      "cell_type": "code",
      "source": [
        "plot_bloch_multivector(statevector)"
      ],
      "metadata": {
        "id": "6U4qsAfCXRZK"
      },
      "execution_count": null,
      "outputs": []
    },
    {
      "cell_type": "markdown",
      "source": [
        "## Suggested exercices 1"
      ],
      "metadata": {
        "id": "zSL_tRqMXCIJ"
      }
    },
    {
      "cell_type": "markdown",
      "source": [
        "**Exercise 1**: _Initializing and Measuring a Qubit_\n",
        "\n",
        "* Create a quantum circuit with 1 qubit and 1 classical bit.\n",
        "\n",
        "* Do not apply any gates (qubit remains in |0⟩).\n",
        "\n",
        "* Draw the circuit.\n",
        "\n",
        "* Measure the qubit and plot the histogram with 1024 shots.\n",
        "\n",
        "* *Question*: What is the outcome, and why does it occur?"
      ],
      "metadata": {
        "id": "t9SU0XLQYp3H"
      }
    },
    {
      "cell_type": "code",
      "source": [],
      "metadata": {
        "id": "NBccXpMh4v_H"
      },
      "execution_count": null,
      "outputs": []
    },
    {
      "cell_type": "markdown",
      "source": [
        "**Exercise 2**: *Creating Superposition*\n",
        "\n",
        "* Create a circuit with 1 qubit and 1 classical bit.\n",
        "\n",
        "* Apply a Hadamard gate to create superposition, then measure.\n",
        "\n",
        "* Draw the circuit.\n",
        "\n",
        "* Simulate with 2048 shots and plot the histogram.\n",
        "\n",
        "* *Question*: Are the probabilities for |0⟩ and |1⟩ approximately equal? Explain why."
      ],
      "metadata": {
        "id": "GK-kAhuAYtMZ"
      }
    },
    {
      "cell_type": "code",
      "source": [],
      "metadata": {
        "id": "e1k7ARSvTr0Z"
      },
      "execution_count": null,
      "outputs": []
    },
    {
      "cell_type": "markdown",
      "source": [
        "**Exercise 3**: *Visualizing Superposition*\n",
        "\n",
        "* Create a circuit with 1 qubit (no classical bit or measurement).\n",
        "* Apply a Hadamard gate.\n",
        "\n",
        "* Draw the circuit.\n",
        "\n",
        "* Return the output statevector of an instruction using [from_instruction()](https://quantum.cloud.ibm.com/docs/en/api/qiskit/qiskit.quantum_info.Statevector#from_instruction)\n",
        "* Use the statevector simulator to plot the qubit's state on the Bloch sphere.\n",
        "* *Question*: How does the Bloch sphere confirm the qubit is in superposition?"
      ],
      "metadata": {
        "id": "q42346lRYzD8"
      }
    },
    {
      "cell_type": "code",
      "source": [],
      "metadata": {
        "id": "_nPKEqk3TzOl"
      },
      "execution_count": null,
      "outputs": []
    },
    {
      "cell_type": "markdown",
      "source": [
        "**Exercise 4**: *Effect of Double Hadamard*\n",
        "\n",
        "* Create a circuit with 1 qubit and 1 classical bit.\n",
        "\n",
        "* Apply two Hadamard gates in sequence, then measure.\n",
        "\n",
        "* Draw the circuit.\n",
        "\n",
        "* Simulate with 1024 shots and plot the histogram.\n",
        "\n",
        "* *Question*: What is the outcome, and why? (Hint: Compute the effect of H × H mathematically.)"
      ],
      "metadata": {
        "id": "sh1svjuxY2hi"
      }
    },
    {
      "cell_type": "code",
      "source": [],
      "metadata": {
        "id": "oAoSXfDZT5Kn"
      },
      "execution_count": null,
      "outputs": []
    },
    {
      "cell_type": "markdown",
      "source": [
        "**Exercise 5**: *Superposition with Two Qubits*\n",
        "\n",
        "* Create a circuit with 2 qubits and 2 classical bits.\n",
        "\n",
        "* Apply Hadamard gates to both qubits, then measure.\n",
        "\n",
        "* Draw the circuit.\n",
        "\n",
        "* Simulate with 1024 shots and plot the histogram.\n",
        "\n",
        "* *Question*: List the possible outcomes and their expected probabilities."
      ],
      "metadata": {
        "id": "693TnaGJY5Bt"
      }
    },
    {
      "cell_type": "code",
      "source": [],
      "metadata": {
        "id": "6hRQzTTYXEIg"
      },
      "execution_count": null,
      "outputs": []
    },
    {
      "cell_type": "markdown",
      "source": [
        "## Additional Resources\n",
        "\n",
        "* [IBM Quantum learning](https://quantum.cloud.ibm.com/learning/en)\n",
        "\n",
        "* [IBM’s Perspective on Quantum Computing: Concepts, Applications, and Innovations](https://www.ibm.com/think/topics/quantum-computing)\n",
        "\n",
        "* [What we can learn about quantum physics from a single qubit](https://arxiv.org/pdf/1312.1463)"
      ],
      "metadata": {
        "id": "QLn45ffKY-e8"
      }
    },
    {
      "cell_type": "markdown",
      "source": [
        "To report errors or suggestions: nicolasg.avilan@urosario.edu.co"
      ],
      "metadata": {
        "id": "0lL--RbkiJro"
      }
    }
  ]
}