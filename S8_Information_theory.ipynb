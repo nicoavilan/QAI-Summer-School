{
  "nbformat": 4,
  "nbformat_minor": 0,
  "metadata": {
    "colab": {
      "provenance": [],
      "authorship_tag": "ABX9TyOOut2YwZ6bHOCeumJgy1u9",
      "include_colab_link": true
    },
    "kernelspec": {
      "name": "python3",
      "display_name": "Python 3"
    },
    "language_info": {
      "name": "python"
    }
  },
  "cells": [
    {
      "cell_type": "markdown",
      "metadata": {
        "id": "view-in-github",
        "colab_type": "text"
      },
      "source": [
        "<a href=\"https://colab.research.google.com/github/nicoavilan/QAI-Summer-School/blob/main/S8_Information_theory.ipynb\" target=\"_parent\"><img src=\"https://colab.research.google.com/assets/colab-badge.svg\" alt=\"Open In Colab\"/></a>"
      ]
    },
    {
      "cell_type": "markdown",
      "source": [
        "**Q-AI: Summer School on Quantum Artificial Intelligence**\n",
        "\n",
        "Universidad del Rosario - School of Science and Engineering\n",
        "\n",
        "Université du Québec à Trois-Rivières (UQTR), Canada\n",
        "\n",
        "**Fundamentals of Quantum Computing** (session 8)\n",
        "\n"
      ],
      "metadata": {
        "id": "TS_CeuT5IOtN"
      }
    },
    {
      "cell_type": "markdown",
      "source": [
        "Professor: [Nicolás Avilán Vargas](http://www.linkedin.com/in/nicoavilanv)\n",
        "\n",
        "nicolasg.avilan@urosario.edu.co"
      ],
      "metadata": {
        "id": "BB2oOdBHJnlp"
      }
    },
    {
      "cell_type": "markdown",
      "source": [
        "# **Fundamentals of Quantum Computing (session 8)**\n",
        "\n",
        "\n"
      ],
      "metadata": {
        "id": "0AtBIpvHH3Eq"
      }
    },
    {
      "cell_type": "markdown",
      "source": [
        "\n",
        "\n"
      ],
      "metadata": {
        "id": "r1KqIR3JMRef"
      }
    },
    {
      "cell_type": "markdown",
      "source": [
        "## **Information theory**"
      ],
      "metadata": {
        "id": "6y9-_Ue5gHqb"
      }
    },
    {
      "cell_type": "markdown",
      "source": [
        "This guide introduces undergraduate students to the core concepts of classical and quantum information theory, with a focus on their applications in quantum computing. It includes clear explanations, Python code examples optimized for Google Colab, and visualizations to enhance understanding while maintaining mathematical rigor. The guide covers foundational topics like entropy, mutual information, Shannon's theorems, and their quantum analogues (von Neumann entropy, quantum mutual information, Holevo's bound). Practical examples and exercises connect these concepts to quantum computing tasks such as quantum state compression, quantum communication protocols, and error correction."
      ],
      "metadata": {
        "id": "yOFbe0qYUvvH"
      }
    },
    {
      "cell_type": "markdown",
      "source": [
        "## **Introduction to Information Theory**\n",
        "\n",
        "Information theory, developed by Claude Shannon, quantifies information, enabling the study of *communication*, *data compression*, and *error correction*. In quantum computing, these concepts extend to quantum systems, where quantum states and operations introduce unique challenges and opportunities.\n",
        "\n",
        "**Key concepts**:\n",
        "\n",
        "**Classical Information**: Measures uncertainty (entropy) and shared information (mutual information) in probabilistic systems.\n",
        "\n",
        "**Quantum Information**: Extends these ideas to quantum states, using density matrices and quantum operations.\n",
        "\n",
        "**Applications**: Quantum state compression, quantum communication, and error correction rely on information-theoretic principles."
      ],
      "metadata": {
        "id": "iXi-DiCQ6V87"
      }
    },
    {
      "cell_type": "markdown",
      "source": [
        "## **Core Concepts in Classical Information Theory**\n",
        "\n",
        "**Shannon Entropy**\n",
        "\n",
        "Shannon entropy quantifies the uncertainty or information content of a random variable. For a discrete random variable $X$ with probabilities ( $p_i$ ), the entropy $H(X)$ is:\n",
        "\n",
        "$$H(X) = -\\sum_i p_i \\log_2 p_i$$\n",
        "\n",
        "**Intuition**: High entropy indicates high uncertainty (e.g., a fair coin), while low entropy indicates predictability (e.g., a biased coin).\n",
        "\n",
        "**Mutual Information**\n",
        "\n",
        "Mutual information $I(X;Y)$ measures the information shared between two random variables $X$ and $Y$:\n",
        "\n",
        "$$I(X;Y) = H(X) + H(Y) - H(X,Y)$$\n",
        "\n",
        "where $H(X,Y)$ is the joint entropy.\n",
        "\n",
        "**Intuition**: It quantifies how much knowing $Y$ reduces uncertainty about $X$.\n",
        "\n",
        "\n",
        "**Shannon's Theorems**\n",
        "\n",
        "**Source Coding Theorem**: States that a source with entropy $H(X)$ can be compressed to approximately $H(X)$ bits per symbol without loss.\n",
        "\n",
        "**Channel Coding Theorem**: Defines the channel capacity $C$ as the maximum rate at which information can be reliably transmitted over a noisy channel."
      ],
      "metadata": {
        "id": "IsuGDUhaPQHZ"
      }
    },
    {
      "cell_type": "markdown",
      "source": [
        "## **Quantum Information Theory**\n",
        "\n",
        "Quantum information theory extends classical concepts to quantum systems, using quantum states (described by density matrices) and quantum operations.\n",
        "\n",
        "**Von Neumann Entropy**\n",
        "\n",
        "For a quantum state with density matrix $\\rho$, the von Neumann entropy is:\n",
        "\n",
        "$$S(\\rho) = -\\text{Tr}(\\rho \\log_2 \\rho)$$\n",
        "\n",
        "**Intuition**: Measures the uncertainty of a quantum state, analogous to Shannon entropy.\n",
        "\n",
        "**Quantum Mutual Information**\n",
        "\n",
        "For a bipartite quantum state $\\rho_{AB}$, the quantum mutual information is:\n",
        "\n",
        "$$ I(A;B){\\rho} = S(\\rho_A) + S(\\rho_B) - S(\\rho_{AB}) $$\n",
        "\n",
        "where $\\rho_A$ and $\\rho_B$ are the reduced density matrices of subsystems $A$ and $B$.\n",
        "\n",
        "3.3 Holevo’s Bound\n",
        "\n",
        "Holevo’s bound limits the amount of classical information that can be extracted from a quantum system. For an ensemble $\\{p_i, \\rho_i\\}$, the accessible information is bounded by:\n",
        "\n",
        "$$\\chi = S\\left(\\sum_i p_i \\rho_i\\right) - \\sum_i p_i S(\\rho_i)$$\n",
        "\n",
        "**Intuition**: It restricts how much classical data can be encoded and retrieved from quantum states."
      ],
      "metadata": {
        "id": "pReGyGZbdpiO"
      }
    },
    {
      "cell_type": "markdown",
      "source": [
        "## **Applications in Quantum Computing**\n",
        "\n",
        "**Quantum State Compression**\n",
        "\n",
        "Quantum state compression uses von Neumann entropy to determine the minimum number of qubits needed to represent a quantum state. For a state $\\rho$ with entropy $S(\\rho)$, approximately $S(\\rho)$ qubits are required.\n",
        "\n",
        "**Quantum Communication Protocols**\n",
        "\n",
        "Quantum communication, such as superdense coding, relies on quantum mutual information and Holevo's bound. The Holevo bound quantifies the classical information transmissible via quantum states.\n",
        "\n",
        "Example: Superdense coding allows 2 classical bits to be sent using 1 qubit and 1 entangled bit. The Holevo bound limits the information extracted from the received quantum state.\n",
        "\n",
        "**Error Correction and Channel Capacity**\n",
        "\n",
        "Quantum error correction protects quantum information from noise, analogous to classical channel coding. The quantum channel capacity, related to Holevo's bound, determines the maximum rate of reliable quantum information transmission.\n",
        "\n",
        "Example: A simple quantum error-correcting code (e.g., the 3-qubit bit-flip code) can be simulated in **QuTiP** to demonstrate error correction."
      ],
      "metadata": {
        "id": "GlXYrUOwgQNP"
      }
    },
    {
      "cell_type": "markdown",
      "source": [
        "## Additional Resources\n",
        "\n",
        "* [QuTIP](https://qutip.org/)\n",
        "* Nielsen, M. A., & Chuang, I. L. (2010). *Quantum computation and quantum information*. Cambridge university press.\n",
        "* Kitaev, A. Y., Shen, A., & Vyalyi, M. N. (2002). *Classical and quantum computation* (No. 47). American Mathematical Soc."
      ],
      "metadata": {
        "id": "Y385t2OMhjRw"
      }
    },
    {
      "cell_type": "markdown",
      "source": [
        "To report errors or suggestions: nicolasg.avilan@urosario.edu.co"
      ],
      "metadata": {
        "id": "0lL--RbkiJro"
      }
    }
  ]
}